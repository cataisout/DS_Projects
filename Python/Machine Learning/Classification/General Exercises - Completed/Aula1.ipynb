{
 "cells": [
  {
   "cell_type": "code",
   "execution_count": 1,
   "id": "011ebdde",
   "metadata": {},
   "outputs": [],
   "source": [
    "#Features\n",
    "#Pelo longo\n",
    "#Perna Curta\n",
    "#Faz auau\n",
    "porco1 = [0, 1, 0] \n",
    "porco2 = [0, 1, 1] \n",
    "porco3 = [1, 1, 0] \n",
    "\n",
    "cachorro1 = [0, 1, 1]\n",
    "cachorro2 = [1, 0, 1]\n",
    "cachorro3 = [1, 1, 1]\n",
    "\n",
    "#definindo classes\n",
    "#1 > porco\n",
    "#0 > cachorro\n",
    "treino_x = [porco1, porco2, porco3, cachorro1, cachorro2, cachorro3]\n",
    "treino_y = [1, 1, 1, 0, 0, 0] #labels"
   ]
  },
  {
   "cell_type": "code",
   "execution_count": 2,
   "id": "d206744b",
   "metadata": {},
   "outputs": [
    {
     "data": {
      "text/plain": [
       "LinearSVC()"
      ]
     },
     "execution_count": 2,
     "metadata": {},
     "output_type": "execute_result"
    }
   ],
   "source": [
    "from sklearn.svm import LinearSVC\n",
    "\n",
    "model = LinearSVC()\n",
    "model.fit(treino_x, treino_y)"
   ]
  },
  {
   "cell_type": "code",
   "execution_count": 3,
   "id": "2f7374fc",
   "metadata": {},
   "outputs": [
    {
     "data": {
      "text/plain": [
       "array([0])"
      ]
     },
     "execution_count": 3,
     "metadata": {},
     "output_type": "execute_result"
    }
   ],
   "source": [
    "animal_misterioso = [1, 1, 1]\n",
    "\n",
    "model.predict([animal_misterioso])"
   ]
  },
  {
   "cell_type": "code",
   "execution_count": 4,
   "id": "d29cfa0f",
   "metadata": {},
   "outputs": [],
   "source": [
    "misterio1 = [1, 1, 1]\n",
    "misterio2 = [1, 1, 0]\n",
    "misterio3 = [0, 1, 1]\n",
    "\n",
    "testes_x = [misterio1, misterio2, misterio3]\n",
    "testes_y = [0, 1, 1] #labels\n",
    "\n",
    "\n"
   ]
  },
  {
   "cell_type": "code",
   "execution_count": 5,
   "id": "0c00553b",
   "metadata": {},
   "outputs": [],
   "source": [
    "previsoes = model.predict(testes_x)"
   ]
  },
  {
   "cell_type": "code",
   "execution_count": 6,
   "id": "37b0f519",
   "metadata": {},
   "outputs": [],
   "source": [
    "corretos = (previsoes == testes_y).sum()\n",
    "total = len(testes_y)\n"
   ]
  },
  {
   "cell_type": "code",
   "execution_count": 8,
   "id": "11d63a27",
   "metadata": {},
   "outputs": [
    {
     "name": "stdout",
     "output_type": "stream",
     "text": [
      "Taxa de Acerto: 66.67 %\n"
     ]
    }
   ],
   "source": [
    "#taxa de acerto\n",
    "\n",
    "taxa_de_acerto = ((corretos/total) * 100)\n",
    "\n",
    "print(\"Taxa de Acerto: %.2f\" % (taxa_de_acerto), \"%\")"
   ]
  },
  {
   "cell_type": "code",
   "execution_count": 10,
   "id": "fbad6dfb",
   "metadata": {},
   "outputs": [
    {
     "name": "stdout",
     "output_type": "stream",
     "text": [
      "Taxa de Acerto: 66.67 %\n"
     ]
    }
   ],
   "source": [
    "from sklearn.metrics import accuracy_score\n",
    "\n",
    "taxa_de_acerto = (accuracy_score(testes_y,previsoes)) * 100\n",
    "print(\"Taxa de Acerto: %.2f\" % (taxa_de_acerto), \"%\")\n"
   ]
  }
 ],
 "metadata": {
  "kernelspec": {
   "display_name": "Python 3 (ipykernel)",
   "language": "python",
   "name": "python3"
  },
  "language_info": {
   "codemirror_mode": {
    "name": "ipython",
    "version": 3
   },
   "file_extension": ".py",
   "mimetype": "text/x-python",
   "name": "python",
   "nbconvert_exporter": "python",
   "pygments_lexer": "ipython3",
   "version": "3.9.13"
  }
 },
 "nbformat": 4,
 "nbformat_minor": 5
}
