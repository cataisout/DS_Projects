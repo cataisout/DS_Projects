{
 "cells": [
  {
   "cell_type": "code",
   "execution_count": 1,
   "id": "c304d1ef",
   "metadata": {},
   "outputs": [
    {
     "data": {
      "text/html": [
       "<div>\n",
       "<style scoped>\n",
       "    .dataframe tbody tr th:only-of-type {\n",
       "        vertical-align: middle;\n",
       "    }\n",
       "\n",
       "    .dataframe tbody tr th {\n",
       "        vertical-align: top;\n",
       "    }\n",
       "\n",
       "    .dataframe thead th {\n",
       "        text-align: right;\n",
       "    }\n",
       "</style>\n",
       "<table border=\"1\" class=\"dataframe\">\n",
       "  <thead>\n",
       "    <tr style=\"text-align: right;\">\n",
       "      <th></th>\n",
       "      <th>home</th>\n",
       "      <th>how_it_works</th>\n",
       "      <th>contact</th>\n",
       "      <th>bought</th>\n",
       "    </tr>\n",
       "  </thead>\n",
       "  <tbody>\n",
       "    <tr>\n",
       "      <th>0</th>\n",
       "      <td>1</td>\n",
       "      <td>1</td>\n",
       "      <td>0</td>\n",
       "      <td>0</td>\n",
       "    </tr>\n",
       "    <tr>\n",
       "      <th>1</th>\n",
       "      <td>1</td>\n",
       "      <td>1</td>\n",
       "      <td>0</td>\n",
       "      <td>0</td>\n",
       "    </tr>\n",
       "    <tr>\n",
       "      <th>2</th>\n",
       "      <td>1</td>\n",
       "      <td>1</td>\n",
       "      <td>0</td>\n",
       "      <td>0</td>\n",
       "    </tr>\n",
       "    <tr>\n",
       "      <th>3</th>\n",
       "      <td>1</td>\n",
       "      <td>1</td>\n",
       "      <td>0</td>\n",
       "      <td>0</td>\n",
       "    </tr>\n",
       "    <tr>\n",
       "      <th>4</th>\n",
       "      <td>1</td>\n",
       "      <td>1</td>\n",
       "      <td>0</td>\n",
       "      <td>0</td>\n",
       "    </tr>\n",
       "  </tbody>\n",
       "</table>\n",
       "</div>"
      ],
      "text/plain": [
       "   home  how_it_works  contact  bought\n",
       "0     1             1        0       0\n",
       "1     1             1        0       0\n",
       "2     1             1        0       0\n",
       "3     1             1        0       0\n",
       "4     1             1        0       0"
      ]
     },
     "execution_count": 1,
     "metadata": {},
     "output_type": "execute_result"
    }
   ],
   "source": [
    "import pandas as pd\n",
    "\n",
    "url = 'https://gist.githubusercontent.com/guilhermesilveira/2d2efa37d66b6c84a722ea627a897ced/raw/10968b997d885cbded1c92938c7a9912ba41c615/tracking.csv'\n",
    "dados = pd.read_csv(url)\n",
    "dados.head()"
   ]
  },
  {
   "cell_type": "code",
   "execution_count": 2,
   "id": "6f9de100",
   "metadata": {},
   "outputs": [],
   "source": [
    "#renomeando colunas\n",
    "nomes_colunas = {\"home\" : \"Página Inicial\",\n",
    "        \"how_it_works\" : \"Como Funciona\",\n",
    "         \"contact\" : \"Contato\",\n",
    "        \"bought\" : \"Comprou\"\n",
    "        }\n",
    "dados.rename(columns = nomes_colunas, inplace = True)"
   ]
  },
  {
   "cell_type": "code",
   "execution_count": 3,
   "id": "9eb7519d",
   "metadata": {},
   "outputs": [],
   "source": [
    "# Separando os labels\n",
    "x = dados[['Página Inicial', 'Como Funciona', 'Contato']]\n",
    "y = dados ['Comprou']\n"
   ]
  },
  {
   "cell_type": "code",
   "execution_count": 4,
   "id": "573ca0d1",
   "metadata": {},
   "outputs": [
    {
     "name": "stdout",
     "output_type": "stream",
     "text": [
      "Treinaremos com 75 elementos e testaremos com 24 elementos\n"
     ]
    }
   ],
   "source": [
    "#Separando Treino e Teste\n",
    "\n",
    "dados.shape # 99 linhas\n",
    "\n",
    "treino_x = x[:75]\n",
    "treino_y = y[:75]\n",
    "\n",
    "teste_x = x[75:]\n",
    "teste_y = y[75:]\n",
    "\n",
    "print(\"Treinaremos com %d elementos e testaremos com %d elementos\" %(treino_x.shape[0], teste_x.shape[0]))"
   ]
  },
  {
   "cell_type": "code",
   "execution_count": 5,
   "id": "47b24905",
   "metadata": {},
   "outputs": [
    {
     "name": "stdout",
     "output_type": "stream",
     "text": [
      "A acuracia foi de 95.83%\n"
     ]
    }
   ],
   "source": [
    "from sklearn.svm import LinearSVC\n",
    "from sklearn.metrics import accuracy_score\n",
    "\n",
    "model = LinearSVC()\n",
    "model.fit(treino_x, treino_y)\n",
    "previsoes = model.predict(teste_x)\n",
    "acuracia = (accuracy_score(teste_y, previsoes)) * 100\n",
    "\n",
    "print(\"A acuracia foi de %.2f%%\" %acuracia)"
   ]
  },
  {
   "cell_type": "markdown",
   "id": "a363d167",
   "metadata": {},
   "source": [
    "# Utilizando função para fazer o split"
   ]
  },
  {
   "cell_type": "code",
   "execution_count": 7,
   "id": "024d709a",
   "metadata": {},
   "outputs": [
    {
     "name": "stdout",
     "output_type": "stream",
     "text": [
      "A acuracia foi de 96.00%\n"
     ]
    }
   ],
   "source": [
    "from sklearn.model_selection import train_test_split\n",
    "from sklearn.svm import LinearSVC\n",
    "from sklearn.metrics import accuracy_score\n",
    "\n",
    "SEED = 20\n",
    "\n",
    "treino_x, teste_x, treino_y,teste_y = train_test_split(x, y, test_size = 0.25, random_state=SEED)\n",
    "\n",
    "model = LinearSVC()\n",
    "model.fit(treino_x, treino_y)\n",
    "previsoes = model.predict(teste_x)\n",
    "acuracia = (accuracy_score(teste_y, previsoes)) * 100\n",
    "\n",
    "print(\"A acuracia foi de %.2f%%\" %acuracia)"
   ]
  },
  {
   "cell_type": "code",
   "execution_count": 36,
   "id": "0591ea37",
   "metadata": {},
   "outputs": [
    {
     "name": "stdout",
     "output_type": "stream",
     "text": [
      "Nos dados de treino, a probabilidade de encontrar o valor 1 é de 57.45%\n"
     ]
    }
   ],
   "source": [
    "qtd_zero = treino_y.value_counts()[0]\n",
    "qtd_um = treino_y.value_counts()[1]\n",
    "\n",
    "prob_de_dar_um = (qtd_um/qtd_zero) * 100\n",
    "\n",
    "print(\"Nos dados de treino, a probabilidade de encontrar o valor 1 é de %.2f%%\" %prob_de_dar_um)"
   ]
  },
  {
   "cell_type": "code",
   "execution_count": 27,
   "id": "8320b144",
   "metadata": {},
   "outputs": [
    {
     "name": "stdout",
     "output_type": "stream",
     "text": [
      "Nos dados de treino, a probabilidade de encontrar o valor 1 é de 50.00%\n"
     ]
    }
   ],
   "source": [
    "qtd_zero = dados.value_counts(['Comprou'])[0]\n",
    "qtd_um = dados.value_counts(['Comprou'])[1]\n",
    "\n",
    "prob_de_dar_um = (qtd_um/qtd_zero) * 100\n",
    "print(\"Nos dados de treino, a probabilidade de encontrar o valor 1 é de %.2f%%\" %prob_de_dar_um)\n",
    "\n",
    "#Em relação à proporção original do dataset, os dados de treino não estão tao distantes"
   ]
  },
  {
   "cell_type": "code",
   "execution_count": 37,
   "id": "7470d14b",
   "metadata": {},
   "outputs": [
    {
     "name": "stdout",
     "output_type": "stream",
     "text": [
      "Nos dados de treino, a probabilidade de encontrar o valor 1 é de 31.58%\n"
     ]
    }
   ],
   "source": [
    "qtd_zero = teste_y.value_counts()[0]\n",
    "qtd_um = teste_y.value_counts()[1]\n",
    "\n",
    "prob_de_dar_um = (qtd_um/qtd_zero) * 100\n",
    "\n",
    "print(\"Nos dados de treino, a probabilidade de encontrar o valor 1 é de %.2f%%\" %prob_de_dar_um)\n",
    "\n",
    "# No entanto a relação não eh proporcional quando comparamos dados de treino e de teste\n",
    "# Nos dados de Treino temos 57% de chance de encontrar o valor 1\n",
    "# Já no teste essa chance baixa para 31 %"
   ]
  },
  {
   "cell_type": "markdown",
   "id": "e5ed81e0",
   "metadata": {},
   "source": [
    "# Estratificando Split"
   ]
  },
  {
   "cell_type": "code",
   "execution_count": 40,
   "id": "d21d48cd",
   "metadata": {},
   "outputs": [
    {
     "name": "stdout",
     "output_type": "stream",
     "text": [
      "A acuracia foi de 96.00%\n"
     ]
    }
   ],
   "source": [
    "from sklearn.model_selection import train_test_split\n",
    "from sklearn.svm import LinearSVC\n",
    "from sklearn.metrics import accuracy_score\n",
    "\n",
    "SEED = 20\n",
    "\n",
    "treino_x, teste_x, treino_y,teste_y = train_test_split(x, y, test_size = 0.25, random_state=SEED, stratify = y)\n",
    "\n",
    "model = LinearSVC()\n",
    "model.fit(treino_x, treino_y)\n",
    "previsoes = model.predict(teste_x)\n",
    "acuracia = (accuracy_score(teste_y, previsoes)) * 100\n",
    "\n",
    "print(\"A acuracia foi de %.2f%%\" %acuracia)"
   ]
  },
  {
   "cell_type": "code",
   "execution_count": 42,
   "id": "23b7a767",
   "metadata": {},
   "outputs": [
    {
     "name": "stdout",
     "output_type": "stream",
     "text": [
      "Nos dados de treino, a probabilidade de encontrar o valor 1 é de 51.02%\n"
     ]
    }
   ],
   "source": [
    "qtd_zero = treino_y.value_counts()[0]\n",
    "qtd_um = treino_y.value_counts()[1]\n",
    "\n",
    "prob_de_dar_um = (qtd_um/qtd_zero) * 100\n",
    "\n",
    "print(\"Nos dados de treino, a probabilidade de encontrar o valor 1 é de %.2f%%\" %prob_de_dar_um)"
   ]
  },
  {
   "cell_type": "code",
   "execution_count": 43,
   "id": "ef192548",
   "metadata": {},
   "outputs": [
    {
     "name": "stdout",
     "output_type": "stream",
     "text": [
      "Nos dados de treino, a probabilidade de encontrar o valor 1 é de 47.06%\n"
     ]
    }
   ],
   "source": [
    "qtd_zero = teste_y.value_counts()[0]\n",
    "qtd_um = teste_y.value_counts()[1]\n",
    "\n",
    "prob_de_dar_um = (qtd_um/qtd_zero) * 100\n",
    "\n",
    "print(\"Nos dados de treino, a probabilidade de encontrar o valor 1 é de %.2f%%\" %prob_de_dar_um)\n",
    "\n",
    "\n",
    "# Valores mais próximos agora"
   ]
  }
 ],
 "metadata": {
  "kernelspec": {
   "display_name": "Python 3 (ipykernel)",
   "language": "python",
   "name": "python3"
  },
  "language_info": {
   "codemirror_mode": {
    "name": "ipython",
    "version": 3
   },
   "file_extension": ".py",
   "mimetype": "text/x-python",
   "name": "python",
   "nbconvert_exporter": "python",
   "pygments_lexer": "ipython3",
   "version": "3.9.13"
  }
 },
 "nbformat": 4,
 "nbformat_minor": 5
}
