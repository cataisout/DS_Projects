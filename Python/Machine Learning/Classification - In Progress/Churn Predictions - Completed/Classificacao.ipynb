{
 "cells": [
  {
   "cell_type": "markdown",
   "id": "ded02164",
   "metadata": {},
   "source": [
    "# Previsão de Clientes Churn"
   ]
  },
  {
   "cell_type": "markdown",
   "id": "015541e6",
   "metadata": {},
   "source": [
    "## Objetivo do projeto: \n",
    "### Identificar clientes propensos a se tornar churn (a deixarem de ser clientes) com base numa série de categorias que serão utilizadas nessa classificação"
   ]
  },
  {
   "cell_type": "markdown",
   "id": "5dbdb11b",
   "metadata": {},
   "source": [
    "## Desafio\n",
    "### Desafio atual do projeto, além da previsão, é decidir qual algoritmo de classificação melhor soluciona a problemática"
   ]
  },
  {
   "cell_type": "code",
   "execution_count": 68,
   "id": "1aaeaa00",
   "metadata": {
    "scrolled": true
   },
   "outputs": [
    {
     "data": {
      "text/html": [
       "<div>\n",
       "<style scoped>\n",
       "    .dataframe tbody tr th:only-of-type {\n",
       "        vertical-align: middle;\n",
       "    }\n",
       "\n",
       "    .dataframe tbody tr th {\n",
       "        vertical-align: top;\n",
       "    }\n",
       "\n",
       "    .dataframe thead th {\n",
       "        text-align: right;\n",
       "    }\n",
       "</style>\n",
       "<table border=\"1\" class=\"dataframe\">\n",
       "  <thead>\n",
       "    <tr style=\"text-align: right;\">\n",
       "      <th></th>\n",
       "      <th>Maior65Anos</th>\n",
       "      <th>Conjuge</th>\n",
       "      <th>Dependentes</th>\n",
       "      <th>MesesDeContrato</th>\n",
       "      <th>TelefoneFixo</th>\n",
       "      <th>VariasLinhasTelefonicas</th>\n",
       "      <th>ServicoDeInternet</th>\n",
       "      <th>SegurancaOnline</th>\n",
       "      <th>BackupOnline</th>\n",
       "      <th>SeguroNoDispositivo</th>\n",
       "      <th>SuporteTecnico</th>\n",
       "      <th>TVaCabo</th>\n",
       "      <th>StreamingDeFilmes</th>\n",
       "      <th>TipoDeContrato</th>\n",
       "      <th>PagamentoOnline</th>\n",
       "      <th>FormaDePagamento</th>\n",
       "      <th>ContaMensal</th>\n",
       "      <th>Churn</th>\n",
       "    </tr>\n",
       "  </thead>\n",
       "  <tbody>\n",
       "    <tr>\n",
       "      <th>0</th>\n",
       "      <td>0</td>\n",
       "      <td>Sim</td>\n",
       "      <td>Nao</td>\n",
       "      <td>1</td>\n",
       "      <td>Nao</td>\n",
       "      <td>SemServicoTelefonico</td>\n",
       "      <td>DSL</td>\n",
       "      <td>Nao</td>\n",
       "      <td>Sim</td>\n",
       "      <td>Nao</td>\n",
       "      <td>Nao</td>\n",
       "      <td>Nao</td>\n",
       "      <td>Nao</td>\n",
       "      <td>Mensalmente</td>\n",
       "      <td>Sim</td>\n",
       "      <td>ChequeDigital</td>\n",
       "      <td>29.85</td>\n",
       "      <td>Nao</td>\n",
       "    </tr>\n",
       "    <tr>\n",
       "      <th>1</th>\n",
       "      <td>0</td>\n",
       "      <td>Nao</td>\n",
       "      <td>Nao</td>\n",
       "      <td>34</td>\n",
       "      <td>Sim</td>\n",
       "      <td>Nao</td>\n",
       "      <td>DSL</td>\n",
       "      <td>Sim</td>\n",
       "      <td>Nao</td>\n",
       "      <td>Sim</td>\n",
       "      <td>Nao</td>\n",
       "      <td>Nao</td>\n",
       "      <td>Nao</td>\n",
       "      <td>UmAno</td>\n",
       "      <td>Nao</td>\n",
       "      <td>ChequePapel</td>\n",
       "      <td>56.95</td>\n",
       "      <td>Nao</td>\n",
       "    </tr>\n",
       "    <tr>\n",
       "      <th>2</th>\n",
       "      <td>0</td>\n",
       "      <td>Nao</td>\n",
       "      <td>Nao</td>\n",
       "      <td>2</td>\n",
       "      <td>Sim</td>\n",
       "      <td>Nao</td>\n",
       "      <td>DSL</td>\n",
       "      <td>Sim</td>\n",
       "      <td>Sim</td>\n",
       "      <td>Nao</td>\n",
       "      <td>Nao</td>\n",
       "      <td>Nao</td>\n",
       "      <td>Nao</td>\n",
       "      <td>Mensalmente</td>\n",
       "      <td>Sim</td>\n",
       "      <td>ChequePapel</td>\n",
       "      <td>53.85</td>\n",
       "      <td>Sim</td>\n",
       "    </tr>\n",
       "    <tr>\n",
       "      <th>3</th>\n",
       "      <td>0</td>\n",
       "      <td>Nao</td>\n",
       "      <td>Nao</td>\n",
       "      <td>45</td>\n",
       "      <td>Nao</td>\n",
       "      <td>SemServicoTelefonico</td>\n",
       "      <td>DSL</td>\n",
       "      <td>Sim</td>\n",
       "      <td>Nao</td>\n",
       "      <td>Sim</td>\n",
       "      <td>Sim</td>\n",
       "      <td>Nao</td>\n",
       "      <td>Nao</td>\n",
       "      <td>UmAno</td>\n",
       "      <td>Nao</td>\n",
       "      <td>DebitoEmConta</td>\n",
       "      <td>42.30</td>\n",
       "      <td>Nao</td>\n",
       "    </tr>\n",
       "    <tr>\n",
       "      <th>4</th>\n",
       "      <td>0</td>\n",
       "      <td>Nao</td>\n",
       "      <td>Nao</td>\n",
       "      <td>2</td>\n",
       "      <td>Sim</td>\n",
       "      <td>Nao</td>\n",
       "      <td>FibraOptica</td>\n",
       "      <td>Nao</td>\n",
       "      <td>Nao</td>\n",
       "      <td>Nao</td>\n",
       "      <td>Nao</td>\n",
       "      <td>Nao</td>\n",
       "      <td>Nao</td>\n",
       "      <td>Mensalmente</td>\n",
       "      <td>Sim</td>\n",
       "      <td>ChequeDigital</td>\n",
       "      <td>70.70</td>\n",
       "      <td>Sim</td>\n",
       "    </tr>\n",
       "  </tbody>\n",
       "</table>\n",
       "</div>"
      ],
      "text/plain": [
       "   Maior65Anos Conjuge Dependentes  MesesDeContrato TelefoneFixo  \\\n",
       "0            0     Sim         Nao                1          Nao   \n",
       "1            0     Nao         Nao               34          Sim   \n",
       "2            0     Nao         Nao                2          Sim   \n",
       "3            0     Nao         Nao               45          Nao   \n",
       "4            0     Nao         Nao                2          Sim   \n",
       "\n",
       "  VariasLinhasTelefonicas ServicoDeInternet SegurancaOnline BackupOnline  \\\n",
       "0    SemServicoTelefonico               DSL             Nao          Sim   \n",
       "1                     Nao               DSL             Sim          Nao   \n",
       "2                     Nao               DSL             Sim          Sim   \n",
       "3    SemServicoTelefonico               DSL             Sim          Nao   \n",
       "4                     Nao       FibraOptica             Nao          Nao   \n",
       "\n",
       "  SeguroNoDispositivo SuporteTecnico TVaCabo StreamingDeFilmes TipoDeContrato  \\\n",
       "0                 Nao            Nao     Nao               Nao    Mensalmente   \n",
       "1                 Sim            Nao     Nao               Nao          UmAno   \n",
       "2                 Nao            Nao     Nao               Nao    Mensalmente   \n",
       "3                 Sim            Sim     Nao               Nao          UmAno   \n",
       "4                 Nao            Nao     Nao               Nao    Mensalmente   \n",
       "\n",
       "  PagamentoOnline FormaDePagamento  ContaMensal Churn  \n",
       "0             Sim    ChequeDigital        29.85   Nao  \n",
       "1             Nao      ChequePapel        56.95   Nao  \n",
       "2             Sim      ChequePapel        53.85   Sim  \n",
       "3             Nao    DebitoEmConta        42.30   Nao  \n",
       "4             Sim    ChequeDigital        70.70   Sim  "
      ]
     },
     "execution_count": 68,
     "metadata": {},
     "output_type": "execute_result"
    }
   ],
   "source": [
    "# Importando os dados\n",
    "import pandas as pd\n",
    "\n",
    "url = 'https://raw.githubusercontent.com/alura-cursos/ML_Classificacao_por_tras_dos_panos/main/Dados/Customer-Churn.csv'\n",
    "dados = pd.read_csv(url)\n",
    "dados.head()"
   ]
  },
  {
   "cell_type": "code",
   "execution_count": 69,
   "id": "dbca85c4",
   "metadata": {},
   "outputs": [],
   "source": [
    "# Tratamento dos dados\n",
    "colunas_categoricas = ['Conjuge',\n",
    "                                           'Dependentes',\n",
    "                                           'TelefoneFixo',\n",
    "                                           'VariasLinhasTelefonicas',\n",
    "                                           'ServicoDeInternet',\n",
    "                                           'SegurancaOnline',\n",
    "                                           'BackupOnline',\n",
    "                                           'SeguroNoDispositivo',\n",
    "                                           'SuporteTecnico',\n",
    "                                           'TVaCabo',\n",
    "                                           'StreamingDeFilmes',\n",
    "                                           'TipoDeContrato',\n",
    "                                           'PagamentoOnline',\n",
    "                                           'FormaDePagamento',\n",
    "                                           'Churn' \n",
    "                                          ]\n",
    "\n",
    "dados_aux = dados.drop(columns = colunas_categoricas)\n",
    "dados_transformar = dados[colunas_categoricas]"
   ]
  },
  {
   "cell_type": "code",
   "execution_count": 70,
   "id": "c490f7f6",
   "metadata": {},
   "outputs": [],
   "source": [
    "# Transformando as variáveis não numéricas em numéricas para que esteja no formato aceito pelos modelos\n",
    "from sklearn.preprocessing import OrdinalEncoder\n",
    "import numpy as np\n",
    "encoder = OrdinalEncoder()\n",
    "\n",
    "dados_transformados = encoder.fit_transform(dados_transformar)\n",
    "dados_transformados = pd.DataFrame(dados_transformados)"
   ]
  },
  {
   "cell_type": "code",
   "execution_count": 71,
   "id": "ae2a9f3d",
   "metadata": {},
   "outputs": [],
   "source": [
    "#Finalizando o encoding da celula anterior\n",
    "nomes = {\n",
    "    0: 'Conjuge' , 1: 'Dependentes', 2:  'TelefoneFixo' , \n",
    "    3: 'VariasLinhasTelefonicas' , 4 :  'ServicoDeInternet',\n",
    "    5:  'SegurancaOnline', 6:'BackupOnline' , 7: 'SeguroNoDispositivo', \n",
    "    8: 'SuporteTecnico', 9: 'TVaCabo', 10:'StreamingDeFilmes',\n",
    "    11:  'TipoDeContrato', 12:'PagamentoOnline', 13: 'FormaDePagamento', 14:'Churn'\n",
    "}\n",
    "dados_transformados.rename(columns = nomes, inplace = True)\n",
    "dados = pd.concat([dados_aux, dados_transformados], axis = 1)"
   ]
  },
  {
   "cell_type": "code",
   "execution_count": 72,
   "id": "401941d3",
   "metadata": {},
   "outputs": [
    {
     "data": {
      "image/png": "[encoded data removed]",
      "text/plain": [
       "<Figure size 640x480 with 1 Axes>"
      ]
     },
     "metadata": {},
     "output_type": "display_data"
    }
   ],
   "source": [
    "#Verificando distribuição das variáveis de classificação\n",
    "# Existem mais valores 0 (nao churn) que 1 (churn)\n",
    "# Esta diferença de quantidade de amostras pode impactar a performance do modelo\n",
    "import seaborn as sns\n",
    "ax = sns.countplot(x='Churn', data=dados)"
   ]
  },
  {
   "cell_type": "code",
   "execution_count": 73,
   "id": "664e3569",
   "metadata": {},
   "outputs": [
    {
     "data": {
      "text/html": [
       "<div>\n",
       "<style scoped>\n",
       "    .dataframe tbody tr th:only-of-type {\n",
       "        vertical-align: middle;\n",
       "    }\n",
       "\n",
       "    .dataframe tbody tr th {\n",
       "        vertical-align: top;\n",
       "    }\n",
       "\n",
       "    .dataframe thead th {\n",
       "        text-align: right;\n",
       "    }\n",
       "</style>\n",
       "<table border=\"1\" class=\"dataframe\">\n",
       "  <thead>\n",
       "    <tr style=\"text-align: right;\">\n",
       "      <th></th>\n",
       "      <th>Percentual %</th>\n",
       "    </tr>\n",
       "    <tr>\n",
       "      <th>Churn</th>\n",
       "      <th></th>\n",
       "    </tr>\n",
       "  </thead>\n",
       "  <tbody>\n",
       "    <tr>\n",
       "      <th>0.0</th>\n",
       "      <td>73.463013</td>\n",
       "    </tr>\n",
       "    <tr>\n",
       "      <th>1.0</th>\n",
       "      <td>26.536987</td>\n",
       "    </tr>\n",
       "  </tbody>\n",
       "</table>\n",
       "</div>"
      ],
      "text/plain": [
       "       Percentual %\n",
       "Churn              \n",
       "0.0       73.463013\n",
       "1.0       26.536987"
      ]
     },
     "execution_count": 73,
     "metadata": {},
     "output_type": "execute_result"
    }
   ],
   "source": [
    "#Vefificando de maneira percentual a diferença vista na celula anterior\n",
    "diferenca = pd.DataFrame(dados.value_counts('Churn', normalize = True) * 100)\n",
    "diferenca.rename(columns = {0: \"Percentual %\"}, inplace = True)\n",
    "diferenca"
   ]
  },
  {
   "cell_type": "code",
   "execution_count": 74,
   "id": "344d44e6",
   "metadata": {},
   "outputs": [],
   "source": [
    "# Utilizando método de oversampling, que irá equilibrar a distribuição da variável churn\n",
    "# O smote basicamente cria novas amostras com valores intermediarios aos das ja existentes\n",
    "# para equilibrar a distribuição sem causar muitas alteraçãoes nas estatísticas do dataset\n",
    "# como os valores das categorias estao como numericos, essa transformação será possivel.\n",
    "\n",
    "x = dados.drop(columns = 'Churn')\n",
    "y = dados['Churn']\n",
    "\n",
    "from imblearn.over_sampling import SMOTE\n",
    "\n",
    "smt = SMOTE(random_state=5)\n",
    "x, y = smt.fit_resample(x, y)\n"
   ]
  },
  {
   "cell_type": "code",
   "execution_count": 75,
   "id": "4643ac43",
   "metadata": {},
   "outputs": [
    {
     "data": {
      "text/html": [
       "<div>\n",
       "<style scoped>\n",
       "    .dataframe tbody tr th:only-of-type {\n",
       "        vertical-align: middle;\n",
       "    }\n",
       "\n",
       "    .dataframe tbody tr th {\n",
       "        vertical-align: top;\n",
       "    }\n",
       "\n",
       "    .dataframe thead th {\n",
       "        text-align: right;\n",
       "    }\n",
       "</style>\n",
       "<table border=\"1\" class=\"dataframe\">\n",
       "  <thead>\n",
       "    <tr style=\"text-align: right;\">\n",
       "      <th></th>\n",
       "      <th>Maior65Anos</th>\n",
       "      <th>MesesDeContrato</th>\n",
       "      <th>ContaMensal</th>\n",
       "      <th>Conjuge</th>\n",
       "      <th>Dependentes</th>\n",
       "      <th>TelefoneFixo</th>\n",
       "      <th>VariasLinhasTelefonicas</th>\n",
       "      <th>ServicoDeInternet</th>\n",
       "      <th>SegurancaOnline</th>\n",
       "      <th>BackupOnline</th>\n",
       "      <th>SeguroNoDispositivo</th>\n",
       "      <th>SuporteTecnico</th>\n",
       "      <th>TVaCabo</th>\n",
       "      <th>StreamingDeFilmes</th>\n",
       "      <th>TipoDeContrato</th>\n",
       "      <th>PagamentoOnline</th>\n",
       "      <th>FormaDePagamento</th>\n",
       "      <th>Churn</th>\n",
       "    </tr>\n",
       "  </thead>\n",
       "  <tbody>\n",
       "    <tr>\n",
       "      <th>0</th>\n",
       "      <td>0</td>\n",
       "      <td>1</td>\n",
       "      <td>29.85</td>\n",
       "      <td>1.0</td>\n",
       "      <td>0.0</td>\n",
       "      <td>0.0</td>\n",
       "      <td>1.0</td>\n",
       "      <td>0.0</td>\n",
       "      <td>0.0</td>\n",
       "      <td>2.0</td>\n",
       "      <td>0.0</td>\n",
       "      <td>0.0</td>\n",
       "      <td>0.0</td>\n",
       "      <td>0.0</td>\n",
       "      <td>1.0</td>\n",
       "      <td>1.0</td>\n",
       "      <td>1.0</td>\n",
       "      <td>0.0</td>\n",
       "    </tr>\n",
       "    <tr>\n",
       "      <th>1</th>\n",
       "      <td>0</td>\n",
       "      <td>34</td>\n",
       "      <td>56.95</td>\n",
       "      <td>0.0</td>\n",
       "      <td>0.0</td>\n",
       "      <td>1.0</td>\n",
       "      <td>0.0</td>\n",
       "      <td>0.0</td>\n",
       "      <td>2.0</td>\n",
       "      <td>0.0</td>\n",
       "      <td>2.0</td>\n",
       "      <td>0.0</td>\n",
       "      <td>0.0</td>\n",
       "      <td>0.0</td>\n",
       "      <td>2.0</td>\n",
       "      <td>0.0</td>\n",
       "      <td>2.0</td>\n",
       "      <td>0.0</td>\n",
       "    </tr>\n",
       "    <tr>\n",
       "      <th>2</th>\n",
       "      <td>0</td>\n",
       "      <td>2</td>\n",
       "      <td>53.85</td>\n",
       "      <td>0.0</td>\n",
       "      <td>0.0</td>\n",
       "      <td>1.0</td>\n",
       "      <td>0.0</td>\n",
       "      <td>0.0</td>\n",
       "      <td>2.0</td>\n",
       "      <td>2.0</td>\n",
       "      <td>0.0</td>\n",
       "      <td>0.0</td>\n",
       "      <td>0.0</td>\n",
       "      <td>0.0</td>\n",
       "      <td>1.0</td>\n",
       "      <td>1.0</td>\n",
       "      <td>2.0</td>\n",
       "      <td>1.0</td>\n",
       "    </tr>\n",
       "    <tr>\n",
       "      <th>3</th>\n",
       "      <td>0</td>\n",
       "      <td>45</td>\n",
       "      <td>42.30</td>\n",
       "      <td>0.0</td>\n",
       "      <td>0.0</td>\n",
       "      <td>0.0</td>\n",
       "      <td>1.0</td>\n",
       "      <td>0.0</td>\n",
       "      <td>2.0</td>\n",
       "      <td>0.0</td>\n",
       "      <td>2.0</td>\n",
       "      <td>2.0</td>\n",
       "      <td>0.0</td>\n",
       "      <td>0.0</td>\n",
       "      <td>2.0</td>\n",
       "      <td>0.0</td>\n",
       "      <td>3.0</td>\n",
       "      <td>0.0</td>\n",
       "    </tr>\n",
       "    <tr>\n",
       "      <th>4</th>\n",
       "      <td>0</td>\n",
       "      <td>2</td>\n",
       "      <td>70.70</td>\n",
       "      <td>0.0</td>\n",
       "      <td>0.0</td>\n",
       "      <td>1.0</td>\n",
       "      <td>0.0</td>\n",
       "      <td>1.0</td>\n",
       "      <td>0.0</td>\n",
       "      <td>0.0</td>\n",
       "      <td>0.0</td>\n",
       "      <td>0.0</td>\n",
       "      <td>0.0</td>\n",
       "      <td>0.0</td>\n",
       "      <td>1.0</td>\n",
       "      <td>1.0</td>\n",
       "      <td>1.0</td>\n",
       "      <td>1.0</td>\n",
       "    </tr>\n",
       "  </tbody>\n",
       "</table>\n",
       "</div>"
      ],
      "text/plain": [
       "   Maior65Anos  MesesDeContrato  ContaMensal  Conjuge  Dependentes  \\\n",
       "0            0                1        29.85      1.0          0.0   \n",
       "1            0               34        56.95      0.0          0.0   \n",
       "2            0                2        53.85      0.0          0.0   \n",
       "3            0               45        42.30      0.0          0.0   \n",
       "4            0                2        70.70      0.0          0.0   \n",
       "\n",
       "   TelefoneFixo  VariasLinhasTelefonicas  ServicoDeInternet  SegurancaOnline  \\\n",
       "0           0.0                      1.0                0.0              0.0   \n",
       "1           1.0                      0.0                0.0              2.0   \n",
       "2           1.0                      0.0                0.0              2.0   \n",
       "3           0.0                      1.0                0.0              2.0   \n",
       "4           1.0                      0.0                1.0              0.0   \n",
       "\n",
       "   BackupOnline  SeguroNoDispositivo  SuporteTecnico  TVaCabo  \\\n",
       "0           2.0                  0.0             0.0      0.0   \n",
       "1           0.0                  2.0             0.0      0.0   \n",
       "2           2.0                  0.0             0.0      0.0   \n",
       "3           0.0                  2.0             2.0      0.0   \n",
       "4           0.0                  0.0             0.0      0.0   \n",
       "\n",
       "   StreamingDeFilmes  TipoDeContrato  PagamentoOnline  FormaDePagamento  Churn  \n",
       "0                0.0             1.0              1.0               1.0    0.0  \n",
       "1                0.0             2.0              0.0               2.0    0.0  \n",
       "2                0.0             1.0              1.0               2.0    1.0  \n",
       "3                0.0             2.0              0.0               3.0    0.0  \n",
       "4                0.0             1.0              1.0               1.0    1.0  "
      ]
     },
     "execution_count": 75,
     "metadata": {},
     "output_type": "execute_result"
    }
   ],
   "source": [
    "dados = pd.concat([x, y], axis = 1)\n",
    "dados.head()"
   ]
  },
  {
   "cell_type": "code",
   "execution_count": 76,
   "id": "9f843489",
   "metadata": {},
   "outputs": [
    {
     "data": {
      "image/png": "[encoded data removed]",
      "text/plain": [
       "<Figure size 640x480 with 1 Axes>"
      ]
     },
     "metadata": {},
     "output_type": "display_data"
    }
   ],
   "source": [
    "ax = sns.countplot(x='Churn', data=dados)\n"
   ]
  },
  {
   "cell_type": "code",
   "execution_count": 77,
   "id": "b00fff1f",
   "metadata": {},
   "outputs": [
    {
     "data": {
      "text/html": [
       "<div>\n",
       "<style scoped>\n",
       "    .dataframe tbody tr th:only-of-type {\n",
       "        vertical-align: middle;\n",
       "    }\n",
       "\n",
       "    .dataframe tbody tr th {\n",
       "        vertical-align: top;\n",
       "    }\n",
       "\n",
       "    .dataframe thead th {\n",
       "        text-align: right;\n",
       "    }\n",
       "</style>\n",
       "<table border=\"1\" class=\"dataframe\">\n",
       "  <thead>\n",
       "    <tr style=\"text-align: right;\">\n",
       "      <th></th>\n",
       "      <th>Percentual %</th>\n",
       "    </tr>\n",
       "    <tr>\n",
       "      <th>Churn</th>\n",
       "      <th></th>\n",
       "    </tr>\n",
       "  </thead>\n",
       "  <tbody>\n",
       "    <tr>\n",
       "      <th>0.0</th>\n",
       "      <td>50.0</td>\n",
       "    </tr>\n",
       "    <tr>\n",
       "      <th>1.0</th>\n",
       "      <td>50.0</td>\n",
       "    </tr>\n",
       "  </tbody>\n",
       "</table>\n",
       "</div>"
      ],
      "text/plain": [
       "       Percentual %\n",
       "Churn              \n",
       "0.0            50.0\n",
       "1.0            50.0"
      ]
     },
     "execution_count": 77,
     "metadata": {},
     "output_type": "execute_result"
    }
   ],
   "source": [
    "diferenca = pd.DataFrame(dados.value_counts('Churn', normalize = True) * 100)\n",
    "diferenca.rename(columns = {0: \"Percentual %\"}, inplace = True)\n",
    "diferenca"
   ]
  },
  {
   "cell_type": "code",
   "execution_count": 11,
   "id": "362da710",
   "metadata": {},
   "outputs": [],
   "source": [
    "# Pre processamento\n",
    "raw_x = dados.drop( columns = 'Churn')\n",
    "y = dados['Churn']\n",
    "from sklearn.model_selection import train_test_split\n",
    "from sklearn.preprocessing import StandardScaler\n",
    "import numpy as np\n",
    "\n",
    "SEED = 5\n",
    "np.random.seed(SEED)\n",
    "#deixando os dados na mesma escala, pois o knn é sensível a valores muito diferentes\n",
    "scaler = StandardScaler()\n",
    "x = scaler.fit_transform(raw_x)\n",
    "#dividindo treino e teste, sendo 75% dos dados para treino e 25% para teste\n",
    "x_treino, x_teste, y_treino, y_teste = train_test_split(x, y, test_size = 0.25, stratify = y)"
   ]
  },
  {
   "cell_type": "code",
   "execution_count": 99,
   "id": "f161e99d",
   "metadata": {},
   "outputs": [
    {
     "name": "stdout",
     "output_type": "stream",
     "text": [
      "acuracia de 79.20%\n"
     ]
    },
    {
     "name": "stderr",
     "output_type": "stream",
     "text": [
      "C:\\Users\\cat13\\anaconda3\\lib\\site-packages\\sklearn\\neighbors\\_classification.py:228: FutureWarning: Unlike other reduction functions (e.g. `skew`, `kurtosis`), the default behavior of `mode` typically preserves the axis it acts along. In SciPy 1.11.0, this behavior will change: the default value of `keepdims` will become False, the `axis` over which the statistic is taken will be eliminated, and the value None will no longer be accepted. Set `keepdims` to True or False to avoid this warning.\n",
      "  mode, _ = stats.mode(_y[neigh_ind, k], axis=1)\n"
     ]
    }
   ],
   "source": [
    "from sklearn.neighbors import KNeighborsClassifier\n",
    "from sklearn.metrics import accuracy_score\n",
    "\n",
    "knn = KNeighborsClassifier(metric = 'euclidean', n_neighbors=3)\n",
    "# K padrao eh igual a 5\n",
    "knn.fit(x_treino, y_treino)\n",
    "previsao = knn.predict(x_teste)\n",
    "\n",
    "acuracia = accuracy_score(y_teste, previsao) * 100\n",
    "print(\"acuracia de %.2f%%\" %acuracia)"
   ]
  },
  {
   "cell_type": "code",
   "execution_count": 100,
   "id": "ed12e9ac",
   "metadata": {},
   "outputs": [
    {
     "data": {
      "text/plain": [
       "49.98067259373792"
      ]
     },
     "execution_count": 100,
     "metadata": {},
     "output_type": "execute_result"
    }
   ],
   "source": [
    "# Comparando com baseline / Dummy Classifiers\n",
    "\n",
    "from sklearn.dummy import DummyClassifier\n",
    "\n",
    "dummy_clf = DummyClassifier(strategy=\"most_frequent\")\n",
    "dummy_clf.fit(x_treino, y_treino)\n",
    "previsao_dummy = dummy_clf.predict(x_teste)\n",
    "accuracy_score(y_teste, previsao_dummy) * 100\n"
   ]
  },
  {
   "cell_type": "markdown",
   "id": "97f5c587",
   "metadata": {},
   "source": [
    "# Fazendo previsoes utilizando modelo bayesiano"
   ]
  },
  {
   "cell_type": "code",
   "execution_count": 21,
   "id": "aab8dbbe",
   "metadata": {},
   "outputs": [],
   "source": [
    "from sklearn.naive_bayes import BernoulliNB\n",
    "#modelo bayesiano utiliza apenas variaveis binarias, entao é preciso binarizar algumas variaveis\n",
    "parametro_binario = np.median(x_treino)\n",
    "bnb = BernoulliNB(binarize = parametro_binario)"
   ]
  },
  {
   "cell_type": "code",
   "execution_count": 61,
   "id": "3c7e36d4",
   "metadata": {},
   "outputs": [
    {
     "name": "stdout",
     "output_type": "stream",
     "text": [
      "acuracia de 73.83%\n"
     ]
    }
   ],
   "source": [
    "bnb.fit(x_treino, y_treino)\n",
    "predict_nb = bnb.predict(x_teste)\n",
    "acuracia = accuracy_score(y_teste, predict_nb) * 100\n",
    "print(\"acuracia de %.2f%%\" %acuracia)"
   ]
  },
  {
   "cell_type": "markdown",
   "id": "268007d1",
   "metadata": {},
   "source": [
    "# Fazendo previsoes utilizando árvore de descisoa\n"
   ]
  },
  {
   "cell_type": "code",
   "execution_count": 49,
   "id": "f3bdf134",
   "metadata": {},
   "outputs": [
    {
     "data": {
      "text/plain": [
       "DecisionTreeClassifier(random_state=42)"
      ]
     },
     "execution_count": 49,
     "metadata": {},
     "output_type": "execute_result"
    }
   ],
   "source": [
    "\n",
    "from sklearn.tree import DecisionTreeClassifier\n",
    "\n",
    "dtc = DecisionTreeClassifier(criterion = 'gini', random_state = 42)\n",
    "dtc.fit(x_treino, y_treino)\n"
   ]
  },
  {
   "cell_type": "code",
   "execution_count": 32,
   "id": "94f54d0d",
   "metadata": {},
   "outputs": [
    {
     "data": {
      "text/plain": [
       "array([0.01212671, 0.14354047, 0.20945361, 0.01933937, 0.01979863,\n",
       "       0.00411753, 0.0168174 , 0.0077952 , 0.18540368, 0.01616404,\n",
       "       0.01616192, 0.06967211, 0.0111978 , 0.01452922, 0.14263379,\n",
       "       0.02796176, 0.08328676])"
      ]
     },
     "execution_count": 32,
     "metadata": {},
     "output_type": "execute_result"
    }
   ],
   "source": [
    "dtc.feature_importances_"
   ]
  },
  {
   "cell_type": "code",
   "execution_count": 50,
   "id": "0adc2643",
   "metadata": {},
   "outputs": [
    {
     "name": "stdout",
     "output_type": "stream",
     "text": [
      "acuracia de 80.40%\n"
     ]
    }
   ],
   "source": [
    "predict_dtc = dtc.predict(x_teste)\n",
    "acuracia = accuracy_score(y_teste, predict_dtc) * 100\n",
    "print(\"acuracia de %.2f%%\" %acuracia)"
   ]
  },
  {
   "cell_type": "markdown",
   "id": "88948f0e",
   "metadata": {},
   "source": [
    "# Validação dos modelos "
   ]
  },
  {
   "cell_type": "code",
   "execution_count": 44,
   "id": "b821e272",
   "metadata": {},
   "outputs": [
    {
     "name": "stdout",
     "output_type": "stream",
     "text": [
      "Matriz de Confunsão knn\n",
      "[[ 892  401]\n",
      " [ 161 1133]]\n",
      "Matriz de Confunsão Naive Bayes\n",
      "[[935 358]\n",
      " [319 975]]\n",
      "Matriz de Confunsão Decision Tree\n",
      "[[1028  265]\n",
      " [ 242 1052]]\n"
     ]
    }
   ],
   "source": [
    "# Matriz de Confusão\n",
    "\n",
    "from sklearn.metrics import confusion_matrix\n",
    "previsoes = {'knn' : previsao, 'Naive Bayes' : predict_nb, 'Decision Tree' : predict_dtc}\n",
    "\n",
    "for algoritmo in list(previsoes.keys()):\n",
    "    print('Matriz de Confunsão %s' %algoritmo)\n",
    "    print(confusion_matrix(y_teste, previsoes[algoritmo]))\n",
    "\n",
    "# Árvoce de decisão obteve melhor desempenho"
   ]
  },
  {
   "cell_type": "code",
   "execution_count": 52,
   "id": "76bdc73d",
   "metadata": {},
   "outputs": [
    {
     "name": "stdout",
     "output_type": "stream",
     "text": [
      "Modelo knn\n",
      "acuracia de 78.28%\n",
      "Modelo Naive Bayes\n",
      "acuracia de 73.83%\n",
      "Modelo Decision Tree\n",
      "acuracia de 80.40%\n"
     ]
    }
   ],
   "source": [
    "#Acurácia - Analisa desempenho geral \n",
    "for algoritmo in list(previsoes.keys()):\n",
    "    print('Modelo %s' %algoritmo)\n",
    "    acuracia = accuracy_score(y_teste, previsoes[algoritmo]) * 100\n",
    "    print(\"acuracia de %.2f%%\" %acuracia)"
   ]
  },
  {
   "cell_type": "code",
   "execution_count": 57,
   "id": "46198263",
   "metadata": {},
   "outputs": [
    {
     "name": "stdout",
     "output_type": "stream",
     "text": [
      "Score de Precisao de knn\n",
      "73.85919165580182\n",
      "Score de Precisao de Naive Bayes\n",
      "73.14328582145536\n",
      "Score de Precisao de Decision Tree\n",
      "79.87851176917236\n"
     ]
    }
   ],
   "source": [
    "#Precisao - Analisa acertos de positivos\n",
    "from sklearn.metrics import precision_score\n",
    "\n",
    "for algoritmo in list(previsoes.keys()):\n",
    "    print('Score de Precisao de %s' %algoritmo)\n",
    "    print(precision_score(y_teste, previsoes[algoritmo]) * 100)"
   ]
  },
  {
   "cell_type": "code",
   "execution_count": 62,
   "id": "13011fc0",
   "metadata": {},
   "outputs": [
    {
     "name": "stdout",
     "output_type": "stream",
     "text": [
      "Score de Recall knn\n",
      "87.5579598145286\n",
      "Score de Recall Naive Bayes\n",
      "75.34775888717155\n",
      "Score de Recall Decision Tree\n",
      "81.2982998454405\n"
     ]
    }
   ],
   "source": [
    "#Recall - Analisa acerto de verdadeiros positivos \n",
    "\n",
    "from sklearn.metrics import recall_score\n",
    "\n",
    "for algoritmo in list(previsoes.keys()):\n",
    "    print('Score de Recall %s' %algoritmo)\n",
    "    print(recall_score(y_teste, previsoes[algoritmo]) * 100)\n"
   ]
  },
  {
   "cell_type": "code",
   "execution_count": null,
   "id": "9cf322b4",
   "metadata": {},
   "outputs": [],
   "source": [
    "## No caso previsão de clientes churn, é extremamente importante acertar de fato nos clientes que estao\n",
    "## propensos a se tornar churn. Neste caso, a melhor métrica para decidir qual algoritmo utilizar\n",
    "## é o Recall, pois ele analisa os acertos dos verdadeiros positivos.\n",
    "## E o que é o mais importante nesta situação específica é identificar os potenciais clientes churn\n",
    "## Para que eles nao concretizem a previsão\n",
    "\n",
    "## Algortimo indicado para previsão churn : Decision Tree"
   ]
  }
 ],
 "metadata": {
  "kernelspec": {
   "display_name": "Python 3 (ipykernel)",
   "language": "python",
   "name": "python3"
  },
  "language_info": {
   "codemirror_mode": {
    "name": "ipython",
    "version": 3
   },
   "file_extension": ".py",
   "mimetype": "text/x-python",
   "name": "python",
   "nbconvert_exporter": "python",
   "pygments_lexer": "ipython3",
   "version": "3.9.13"
  }
 },
 "nbformat": 4,
 "nbformat_minor": 5
}
